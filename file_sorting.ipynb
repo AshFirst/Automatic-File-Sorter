{
 "cells": [
  {
   "cell_type": "code",
   "execution_count": 50,
   "id": "4a2a7cfb-9cdc-4124-9ac8-5dbd8a1a785a",
   "metadata": {},
   "outputs": [],
   "source": [
    "import os, shutil\n",
    "\n",
    "path = r\"C:/Users/Ashwit/Desktop/File sorting/\"\n",
    "\n",
    "file_names = os.listdir(path)\n",
    "print(file_names)\n",
    "Folder_names = [\"Csv files\", \"Jpg files\", \"Pdf files\", \"Text files\", \"Word files\"]\n",
    "for i in range(len(Folder_names)):\n",
    "    if not os.path.exists(path+Folder_names[i]):\n",
    "        os.makedirs(path+Folder_names[i])\n",
    "for i in range(len(file_names)):\n",
    "    if \".csv\" in file_names[i] and not os.path.exists(path+\"Csv files/\"+file_names[i]):\n",
    "        shutil.move(path+file_names[i], path+\"Csv files/\"+file_names[i])\n",
    "    elif \".jpg\" in file_names[i] and not os.path.exists(path+\"Jpg files/\"+file_names[i]):\n",
    "        shutil.move(path+file_names[i], path+\"Jpg files/\"+file_names[i])\n",
    "    elif \".pdf\" in file_names[i] and not os.path.exists(path+\"Pdf files/\"+file_names[i]):\n",
    "        shutil.move(path+file_names[i], path+\"Pdf files/\"+file_names[i])\n",
    "    elif \".txt\" in file_names[i] and not os.path.exists(path+\"Text files/\"+file_names[i]):\n",
    "        shutil.move(path+file_names[i], path+\"Text files/\"+file_names[i])\n",
    "    elif \".docx\" in file_names[i] and not os.path.exists(path+\"Word files/\"+file_names[i]):\n",
    "        shutil.move(path+file_names[i], path+\"Word files/\"+file_names[i])"
   ]
  },
  {
   "cell_type": "code",
   "execution_count": 52,
   "id": "1479cdf2-152e-4a41-bd49-ca775c5d9981",
   "metadata": {},
   "outputs": [
    {
     "name": "stdout",
     "output_type": "stream",
     "text": [
      "['covid death.csv', 'covid vaccinations.csv', 'Csv files', \"Don't.docx\", 'Give up.docx', 'Hello.pdf', 'hii.pdf', 'Img 1.jpg', 'Img 2.jpg', 'Jpg files', 'Pdf files', 'Text files', 'Word files', 'Writting.txt']\n"
     ]
    }
   ],
   "source": []
  },
  {
   "cell_type": "code",
   "execution_count": 42,
   "id": "c4523a58-1953-471e-9cde-5bbb65326ae4",
   "metadata": {},
   "outputs": [],
   "source": [
    "\n"
   ]
  },
  {
   "cell_type": "code",
   "execution_count": 43,
   "id": "f0f67b25-344f-414b-86d4-2b0899906053",
   "metadata": {},
   "outputs": [],
   "source": [
    "\n",
    "        "
   ]
  },
  {
   "cell_type": "code",
   "execution_count": 57,
   "id": "821e0c7c-b0bb-4b4b-99be-0d4ca2cf04d7",
   "metadata": {},
   "outputs": [],
   "source": [
    "\n",
    "        \n",
    "        "
   ]
  }
 ],
 "metadata": {
  "kernelspec": {
   "display_name": "Python 3 (ipykernel)",
   "language": "python",
   "name": "python3"
  },
  "language_info": {
   "codemirror_mode": {
    "name": "ipython",
    "version": 3
   },
   "file_extension": ".py",
   "mimetype": "text/x-python",
   "name": "python",
   "nbconvert_exporter": "python",
   "pygments_lexer": "ipython3",
   "version": "3.11.7"
  }
 },
 "nbformat": 4,
 "nbformat_minor": 5
}
